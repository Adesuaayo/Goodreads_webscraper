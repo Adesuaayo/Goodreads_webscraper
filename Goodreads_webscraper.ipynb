{
 "cells": [
  {
   "cell_type": "markdown",
   "id": "dce56215",
   "metadata": {},
   "source": [
    "# Web Scraping Goodreads: Exploring the World of Books\n",
    "\n",
    "Welcome to this web scraping project where extract data from [Goodreads](https://www.goodreads.com/). Welcome into the world of books, data, and insights. If you're a book lover like me, you're in for a treat! And if you're not, well, I believe this project might just inspire you to delve into the captivating realm of literature.\n",
    "\n",
    "In this project, we'll be harnessing the power of web scraping to extract a wealth of information from Goodreads, a treasure trove of book-related data. From book titles and authors to ratings, and more, Goodreads offers a vast reservoir of knowledge waiting to be explored.\n",
    "\n",
    "This introductory guide will walk you through the process of setting up your environment, sending HTTP requests, and navigating the structure of web pages to gather data. It's a journey that promises exciting possibilities for data analysis and uncovering hidden insights about the world of books.\n",
    "\n",
    "So, let's dive in and start exploring the fascinating world of literature through the lens of data! Get ready to scrape, analyze, and discover the stories that await us.\n"
   ]
  },
  {
   "cell_type": "code",
   "execution_count": 1,
   "id": "24181fa4",
   "metadata": {},
   "outputs": [],
   "source": [
    "#imports necessary libraries (Pandas, requests, BeautifulSoup) for web scraping and data manipulation.\n",
    "import pandas as pd\n",
    "import requests\n",
    "from bs4 import BeautifulSoup\n",
    "import time\n",
    "import re"
   ]
  },
  {
   "cell_type": "code",
   "execution_count": 2,
   "id": "ec56ec89",
   "metadata": {},
   "outputs": [],
   "source": [
    "# Define a user-agent header to identify your scraper\n",
    "user_agent = \"MyWebScraper/1.0 (+https://github.com/Adesuaayo/goodreads_webscraper)\""
   ]
  },
  {
   "cell_type": "code",
   "execution_count": 3,
   "id": "2301cc04",
   "metadata": {},
   "outputs": [],
   "source": [
    "book_titles = []\n",
    "authors = []\n",
    "avg_ratings = []\n",
    "ratings = []\n",
    "published_years = []\n",
    "editions = []"
   ]
  },
  {
   "cell_type": "code",
   "execution_count": 4,
   "id": "710864c3",
   "metadata": {},
   "outputs": [
    {
     "name": "stdout",
     "output_type": "stream",
     "text": [
      "Index error on page 75: list index out of range\n",
      "Error on page 107: HTTPSConnectionPool(host='www.goodreads.com', port=443): Max retries exceeded with url: /search?page=107&q=self+help&qid=ozFSiGJBE0 (Caused by SSLError(SSLEOFError(8, 'EOF occurred in violation of protocol (_ssl.c:1129)')))\n",
      "Error on page 210: HTTPSConnectionPool(host='www.goodreads.com', port=443): Max retries exceeded with url: /search?page=210&q=self+help&qid=ozFSiGJBE0 (Caused by NewConnectionError('<urllib3.connection.HTTPSConnection object at 0x000002BA3889C790>: Failed to establish a new connection: [WinError 10060] A connection attempt failed because the connected party did not properly respond after a period of time, or established connection failed because connected host has failed to respond'))\n",
      "Error on page 249: ('Connection aborted.', RemoteDisconnected('Remote end closed connection without response'))\n",
      "Error on page 277: HTTPSConnectionPool(host='www.goodreads.com', port=443): Max retries exceeded with url: /search?page=277&q=self+help&qid=ozFSiGJBE0 (Caused by SSLError(SSLEOFError(8, 'EOF occurred in violation of protocol (_ssl.c:1129)')))\n",
      "Index error on page 300: list index out of range\n",
      "Index error on page 351: list index out of range\n",
      "Index error on page 373: list index out of range\n",
      "Error on page 470: HTTPSConnectionPool(host='www.goodreads.com', port=443): Max retries exceeded with url: /search?page=470&q=self+help&qid=ozFSiGJBE0 (Caused by NewConnectionError('<urllib3.connection.HTTPSConnection object at 0x000002BA360DDE50>: Failed to establish a new connection: [WinError 10060] A connection attempt failed because the connected party did not properly respond after a period of time, or established connection failed because connected host has failed to respond'))\n",
      "Error on page 471: HTTPSConnectionPool(host='www.goodreads.com', port=443): Max retries exceeded with url: /search?page=471&q=self+help&qid=ozFSiGJBE0 (Caused by NewConnectionError('<urllib3.connection.HTTPSConnection object at 0x000002BA38258640>: Failed to establish a new connection: [Errno 11001] getaddrinfo failed'))\n",
      "Error on page 477: HTTPSConnectionPool(host='www.goodreads.com', port=443): Max retries exceeded with url: /search?page=477&q=self+help&qid=ozFSiGJBE0 (Caused by SSLError(SSLEOFError(8, 'EOF occurred in violation of protocol (_ssl.c:1129)')))\n",
      "Error on page 563: ('Connection aborted.', ConnectionResetError(10054, 'An existing connection was forcibly closed by the remote host', None, 10054, None))\n"
     ]
    }
   ],
   "source": [
    "pages_to_scrape = 600\n",
    "\n",
    "# Specify the delay between requests in seconds (e.g., 2 seconds)\n",
    "request_delay = 3\n",
    "\n",
    "# Loop through the pages to scrape\n",
    "for page in range(1, pages_to_scrape + 1):\n",
    "    \n",
    "    # Construct the URL for the current page\n",
    "    url = \"https://www.goodreads.com/search?page=\" + str(page) + \"&q=self+help&qid=ozFSiGJBE0\"\n",
    "   \n",
    "    try:\n",
    "        # Send an HTTP GET request to the URL with the user-agent header\n",
    "        headers = {\"User-Agent\": user_agent}\n",
    "        response = requests.get(url, headers=headers).text\n",
    "\n",
    "        # Parse the HTML content using BeautifulSoup\n",
    "        soup = BeautifulSoup(response, \"html5lib\")\n",
    "    \n",
    "        # Check for server errors or maintenance\n",
    "        if soup.title and \"service unavailable\" in soup.title.text.lower():\n",
    "            print(f\"Server error on page {page}. Skipping...\")\n",
    "            continue\n",
    "\n",
    "        # Select the table containing the list of books\n",
    "        table = soup.find_all(\"tbody\")[0]\n",
    "\n",
    "        # Loop through the rows of the table\n",
    "        for row in table.find_all(\"tr\"):\n",
    "            cells = row.find_all(\"td\")[1]\n",
    "\n",
    "            # Extract book title\n",
    "            title = cells.find(\"a\").find(\"span\").text\n",
    "            book_titles.append(title)\n",
    "\n",
    "            # Extract author's name\n",
    "            author = cells.find(\"a\", class_=\"authorName\").text\n",
    "            authors.append(author)\n",
    "            \n",
    "\n",
    "            #rating\n",
    "            all_ratings = cells.find_all('span', class_ = 'minirating')\n",
    "            all_ratings_text = all_ratings[0].text.strip()\n",
    "            pattern_2 = re.compile(r\"(\\d\\.?\\d*)\\savg\")\n",
    "            avg_ratings.append(pattern_2.search(all_ratings_text).group(1))\n",
    "\n",
    "            #n_ratings\n",
    "            pattern_4 = re.compile(r\"(\\d\\,?\\d*) rating\")\n",
    "            ratings_matches = pattern_4.search(all_ratings_text)\n",
    "            ratings.append(ratings_matches.group(1) if ratings_matches else 0)  \n",
    "\n",
    "\n",
    "#             # Extract average rating\n",
    "#             avg_rating = cells.find(\"span\", class_=\"greyText smallText uitext\").text.split()[0]\n",
    "#             avg_ratings.append(avg_rating)\n",
    "\n",
    "#             # Extract rating\n",
    "#             rating = cells.find(\"span\", class_=\"greyText smallText uitext\").text.split()[4]\n",
    "#             ratings.append(rating)\n",
    "\n",
    "            # Extract published year, handling cases where it may not be in the expected format\n",
    "            year_info = cells.find(\"span\", class_=\"greyText smallText uitext\").text.split()\n",
    "            year = None\n",
    "            for item in year_info:\n",
    "                if item.isdigit() and len(item) == 4:\n",
    "                    year = item\n",
    "                    break\n",
    "            if year:\n",
    "                published_years.append(year)\n",
    "            else:\n",
    "                published_years.append(0)  # Handle cases where year is not found\n",
    "\n",
    "            # Extract edition information\n",
    "            edition = cells.find(\"span\", class_=\"greyText smallText uitext\").text.split()[-2]\n",
    "            editions.append(edition)\n",
    "\n",
    "        # Sleep to add a delay between requests\n",
    "        time.sleep(request_delay)\n",
    "    \n",
    "    except requests.exceptions.RequestException as e:\n",
    "        # Handle HTTP request errors (e.g., connection issues)\n",
    "        print(f\"Error on page {page}: {e}\")\n",
    "\n",
    "    except IndexError as e:\n",
    "        # Handle \"list index out of range\" error\n",
    "        print(f\"Index error on page {page}: {e}\")\n",
    "\n",
    "    except Exception as e:\n",
    "        # Handle other unexpected errors\n",
    "        print(f\"Unexpected error on page {page}: {e}\")"
   ]
  },
  {
   "cell_type": "code",
   "execution_count": 5,
   "id": "c007fabe",
   "metadata": {
    "scrolled": true
   },
   "outputs": [],
   "source": [
    "# After scraping all pages, we create a DataFrame from the collected data\n",
    "data = {\n",
    "    \"Title\": book_titles,\n",
    "    \"Author\": authors,\n",
    "    \"Average Rating\": avg_ratings,\n",
    "    \"Rating\": ratings,\n",
    "    \"Year Published\": published_years,\n",
    "    \"Edition\": editions\n",
    "}"
   ]
  },
  {
   "cell_type": "code",
   "execution_count": 6,
   "id": "1af705b6",
   "metadata": {
    "scrolled": true
   },
   "outputs": [
    {
     "data": {
      "text/html": [
       "<div>\n",
       "<style scoped>\n",
       "    .dataframe tbody tr th:only-of-type {\n",
       "        vertical-align: middle;\n",
       "    }\n",
       "\n",
       "    .dataframe tbody tr th {\n",
       "        vertical-align: top;\n",
       "    }\n",
       "\n",
       "    .dataframe thead th {\n",
       "        text-align: right;\n",
       "    }\n",
       "</style>\n",
       "<table border=\"1\" class=\"dataframe\">\n",
       "  <thead>\n",
       "    <tr style=\"text-align: right;\">\n",
       "      <th></th>\n",
       "      <th>Title</th>\n",
       "      <th>Author</th>\n",
       "      <th>Average Rating</th>\n",
       "      <th>Rating</th>\n",
       "      <th>Year Published</th>\n",
       "      <th>Edition</th>\n",
       "    </tr>\n",
       "  </thead>\n",
       "  <tbody>\n",
       "    <tr>\n",
       "      <th>0</th>\n",
       "      <td>10% Happier: How I Tamed the Voice in My Head,...</td>\n",
       "      <td>Dan   Harris</td>\n",
       "      <td>3.92</td>\n",
       "      <td>4,207</td>\n",
       "      <td>2014</td>\n",
       "      <td>1</td>\n",
       "    </tr>\n",
       "    <tr>\n",
       "      <th>1</th>\n",
       "      <td>Self-Help</td>\n",
       "      <td>Lorrie Moore</td>\n",
       "      <td>4.14</td>\n",
       "      <td>3,332</td>\n",
       "      <td>1985</td>\n",
       "      <td>39</td>\n",
       "    </tr>\n",
       "    <tr>\n",
       "      <th>2</th>\n",
       "      <td>Parenting from the Inside Out: How a Deeper Se...</td>\n",
       "      <td>Daniel J. Siegel</td>\n",
       "      <td>4.16</td>\n",
       "      <td>4,623</td>\n",
       "      <td>2003</td>\n",
       "      <td>48</td>\n",
       "    </tr>\n",
       "    <tr>\n",
       "      <th>3</th>\n",
       "      <td>What's Our Problem?: A Self-Help Book for Soci...</td>\n",
       "      <td>Tim Urban</td>\n",
       "      <td>4.30</td>\n",
       "      <td>2,720</td>\n",
       "      <td>2023</td>\n",
       "      <td>1</td>\n",
       "    </tr>\n",
       "    <tr>\n",
       "      <th>4</th>\n",
       "      <td>How to Be Fine: What We Learned from Living by...</td>\n",
       "      <td>Jolenta Greenberg</td>\n",
       "      <td>3.55</td>\n",
       "      <td>4,272</td>\n",
       "      <td>2020</td>\n",
       "      <td>10</td>\n",
       "    </tr>\n",
       "  </tbody>\n",
       "</table>\n",
       "</div>"
      ],
      "text/plain": [
       "                                               Title             Author  \\\n",
       "0  10% Happier: How I Tamed the Voice in My Head,...       Dan   Harris   \n",
       "1                                          Self-Help       Lorrie Moore   \n",
       "2  Parenting from the Inside Out: How a Deeper Se...   Daniel J. Siegel   \n",
       "3  What's Our Problem?: A Self-Help Book for Soci...          Tim Urban   \n",
       "4  How to Be Fine: What We Learned from Living by...  Jolenta Greenberg   \n",
       "\n",
       "  Average Rating Rating Year Published Edition  \n",
       "0           3.92  4,207           2014       1  \n",
       "1           4.14  3,332           1985      39  \n",
       "2           4.16  4,623           2003      48  \n",
       "3           4.30  2,720           2023       1  \n",
       "4           3.55  4,272           2020      10  "
      ]
     },
     "execution_count": 6,
     "metadata": {},
     "output_type": "execute_result"
    }
   ],
   "source": [
    "goodreads = pd.DataFrame(data)\n",
    "\n",
    "# Display the first five rows of the dataframe\n",
    "goodreads.head()"
   ]
  },
  {
   "cell_type": "code",
   "execution_count": 7,
   "id": "eb783175",
   "metadata": {},
   "outputs": [
    {
     "data": {
      "text/plain": [
       "11760"
      ]
     },
     "execution_count": 7,
     "metadata": {},
     "output_type": "execute_result"
    }
   ],
   "source": [
    "len(goodreads)"
   ]
  },
  {
   "cell_type": "code",
   "execution_count": 8,
   "id": "e11df4ff",
   "metadata": {},
   "outputs": [],
   "source": [
    "goodreads.to_csv(\"Goodreads_books.csv\", index=False)"
   ]
  },
  {
   "cell_type": "code",
   "execution_count": null,
   "id": "6d8b9dc9",
   "metadata": {},
   "outputs": [],
   "source": []
  }
 ],
 "metadata": {
  "kernelspec": {
   "display_name": "Python 3 (ipykernel)",
   "language": "python",
   "name": "python3"
  },
  "language_info": {
   "codemirror_mode": {
    "name": "ipython",
    "version": 3
   },
   "file_extension": ".py",
   "mimetype": "text/x-python",
   "name": "python",
   "nbconvert_exporter": "python",
   "pygments_lexer": "ipython3",
   "version": "3.9.13"
  }
 },
 "nbformat": 4,
 "nbformat_minor": 5
}
